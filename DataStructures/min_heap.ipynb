{
 "cells": [
  {
   "cell_type": "code",
   "execution_count": 26,
   "metadata": {
    "collapsed": true
   },
   "outputs": [],
   "source": [
    "class MinHeap:\n",
    "    def __init__(self):\n",
    "        self.heap = [0]\n",
    "        self.size = 0\n",
    "    \n",
    "    \n",
    "    def insert(self, item):\n",
    "        self.heap.append(item)\n",
    "        self.size += 1\n",
    "        self.shift_up()\n",
    "    \n",
    "    \n",
    "    def pop_min(self):\n",
    "        if(self.size == 0):\n",
    "            return None\n",
    "        result = self.heap[1]\n",
    "        self.heap[1] = self.heap[-1]\n",
    "        self.heap.pop()\n",
    "        self.size -= 1\n",
    "        self.shift_down()\n",
    "        return result  \n",
    "    \n",
    "    \n",
    "    def shift_up(self):\n",
    "        i = len(self.heap) - 1\n",
    "        parent_index = self.get_parent_index(i)\n",
    "        while(parent_index > 0 and self.heap[parent_index] > self.heap[i]):\n",
    "            tmp = self.heap[i]\n",
    "            self.heap[i] = self.heap[parent_index]\n",
    "            self.heap[parent_index] = tmp\n",
    "            i = parent_index\n",
    "            parent_index = self.get_parent_index(i)\n",
    "    \n",
    "    \n",
    "    def shift_down(self):\n",
    "        i = 1\n",
    "        while(i * 2 < self.size): \n",
    "            min_child_index = self.get_min_child_index(i)\n",
    "            if(self.heap[i] > self.heap[min_child_index]):\n",
    "                tmp = self.heap[i]\n",
    "                self.heap[i] = self.heap[min_child_index]\n",
    "                self.heap[min_child_index] = tmp\n",
    "            i = min_child_index\n",
    "    \n",
    "    \n",
    "    def get_parent_index(self, index):\n",
    "        return index // 2\n",
    "    \n",
    "    \n",
    "    def get_min_child_index(self, index):\n",
    "        left_child_index = self.get_left_child_index(index)\n",
    "        right_child_index = self.get_right_child_index(index)\n",
    "        if right_child_index > len(self.heap):\n",
    "            return left_child_index\n",
    "        if self.heap[left_child_index] < self.heap[right_child_index]:\n",
    "            return left_child_index\n",
    "        else:\n",
    "            return right_child_index\n",
    "    \n",
    "    \n",
    "    def get_left_child_index(self, index):\n",
    "        return index * 2\n",
    "    \n",
    "    \n",
    "    def get_right_child_index(self, index):\n",
    "        return (index * 2) + 1"
   ]
  },
  {
   "cell_type": "code",
   "execution_count": 15,
   "metadata": {
    "collapsed": true
   },
   "outputs": [],
   "source": [
    "heap = MinHeap()"
   ]
  },
  {
   "cell_type": "code",
   "execution_count": 16,
   "metadata": {
    "collapsed": false
   },
   "outputs": [],
   "source": [
    "heap.pop_min()"
   ]
  },
  {
   "cell_type": "code",
   "execution_count": 17,
   "metadata": {
    "collapsed": false
   },
   "outputs": [],
   "source": [
    "heap.insert(1)"
   ]
  },
  {
   "cell_type": "code",
   "execution_count": 18,
   "metadata": {
    "collapsed": false
   },
   "outputs": [
    {
     "data": {
      "text/plain": [
       "1"
      ]
     },
     "execution_count": 18,
     "metadata": {},
     "output_type": "execute_result"
    }
   ],
   "source": [
    "heap.pop_min()"
   ]
  },
  {
   "cell_type": "code",
   "execution_count": 19,
   "metadata": {
    "collapsed": true
   },
   "outputs": [],
   "source": [
    "heap.insert(5)\n",
    "heap.insert(1)"
   ]
  },
  {
   "cell_type": "code",
   "execution_count": 20,
   "metadata": {
    "collapsed": false
   },
   "outputs": [
    {
     "data": {
      "text/plain": [
       "2"
      ]
     },
     "execution_count": 20,
     "metadata": {},
     "output_type": "execute_result"
    }
   ],
   "source": [
    "heap.size"
   ]
  },
  {
   "cell_type": "code",
   "execution_count": 21,
   "metadata": {
    "collapsed": false
   },
   "outputs": [
    {
     "data": {
      "text/plain": [
       "1"
      ]
     },
     "execution_count": 21,
     "metadata": {},
     "output_type": "execute_result"
    }
   ],
   "source": [
    "heap.pop_min()"
   ]
  },
  {
   "cell_type": "code",
   "execution_count": 22,
   "metadata": {
    "collapsed": true
   },
   "outputs": [],
   "source": [
    "heap.insert(5)\n",
    "heap.insert(4)\n",
    "heap.insert(7)\n",
    "heap.insert(2)\n",
    "heap.insert(3)\n",
    "heap.insert(6)\n",
    "heap.insert(1)"
   ]
  },
  {
   "cell_type": "code",
   "execution_count": 24,
   "metadata": {
    "collapsed": false
   },
   "outputs": [
    {
     "name": "stdout",
     "output_type": "stream",
     "text": [
      "1\n",
      "2\n",
      "3\n",
      "4\n",
      "5\n",
      "5\n",
      "6\n",
      "7\n"
     ]
    }
   ],
   "source": [
    "for i in range(heap.size):\n",
    "    print(heap.pop_min())"
   ]
  },
  {
   "cell_type": "code",
   "execution_count": 25,
   "metadata": {
    "collapsed": false
   },
   "outputs": [
    {
     "data": {
      "text/plain": [
       "0"
      ]
     },
     "execution_count": 25,
     "metadata": {},
     "output_type": "execute_result"
    }
   ],
   "source": [
    "heap.size"
   ]
  },
  {
   "cell_type": "code",
   "execution_count": null,
   "metadata": {
    "collapsed": true
   },
   "outputs": [],
   "source": []
  }
 ],
 "metadata": {
  "kernelspec": {
   "display_name": "Python 3",
   "language": "python",
   "name": "python3"
  },
  "language_info": {
   "codemirror_mode": {
    "name": "ipython",
    "version": 3
   },
   "file_extension": ".py",
   "mimetype": "text/x-python",
   "name": "python",
   "nbconvert_exporter": "python",
   "pygments_lexer": "ipython3",
   "version": "3.6.2"
  }
 },
 "nbformat": 4,
 "nbformat_minor": 2
}
