{
 "cells": [
  {
   "cell_type": "code",
   "execution_count": 223,
   "metadata": {},
   "outputs": [],
   "source": [
    "class BinarySearchTree:\n",
    "    \n",
    "    \n",
    "    def __init__(self):\n",
    "        self.root = None\n",
    "        self.size = 0\n",
    "    \n",
    "    \n",
    "    def length(self):\n",
    "        return self.size\n",
    "    \n",
    "    \n",
    "    def put(self, key, value):\n",
    "        if self.root:\n",
    "            self._append(self.root, key, value)\n",
    "        else:\n",
    "            self.root = TreeNode(key, value)\n",
    "        self.size += 1\n",
    "        \n",
    "    \n",
    "    def get(self, key):\n",
    "        if self.root:\n",
    "            node = self._find(self.root, key)\n",
    "            return node.value if node else None\n",
    "        return None\n",
    "    \n",
    "    \n",
    "    def delete(self, key):\n",
    "        if self.size >= 1:\n",
    "            node = self._find(self.root, key)\n",
    "            if node is not None:\n",
    "                self._remove(node)\n",
    "                self.size -= 1\n",
    "                return node\n",
    "        raise KeyError(\"Key not in tree\")\n",
    "\n",
    "        \n",
    "    def _append(self, node, key, value):\n",
    "        if key < node.key:\n",
    "            if node.left:\n",
    "                self._append(node.left, key, value)\n",
    "            else:\n",
    "                node.left = TreeNode(key, value, parent=node)\n",
    "        else:\n",
    "            if node.right:\n",
    "                self._append(node.right, key, value)\n",
    "            else:\n",
    "                node.right = TreeNode(key, value, parent=node)\n",
    "                \n",
    "                \n",
    "    def _find(self, node, key):\n",
    "        if node is None:\n",
    "            return None\n",
    "        elif key < node.key:\n",
    "            return self._find(node.left, key)\n",
    "        elif key > node.key:\n",
    "            return self._find(node.right, key)\n",
    "        return node\n",
    "   \n",
    "\n",
    "    \n",
    "    def _remove(self, node):\n",
    "        if node.has_children() is not True:\n",
    "            if node == node.parent.left:\n",
    "                node.parent.left = None\n",
    "            else:\n",
    "                node.parent.right = None\n",
    "        else:\n",
    "            if node.left and node.right is not None:\n",
    "                succ = node.find_successor()\n",
    "                if succ.has_children() is False:\n",
    "                    if succ.is_left_child():\n",
    "                        succ.parent.left = None\n",
    "                    else:\n",
    "                        succ.parent.right = None\n",
    "                elif succ.left is not None:\n",
    "                    if succ.is_left_child() is not None:\n",
    "                        succ.parent.left = succ.left\n",
    "                    else:\n",
    "                        succ.parent.right = succ.left\n",
    "                    succ.left.parent = succ.parent\n",
    "                else:\n",
    "                    if succ.is_left_child():\n",
    "                        succ.parent.left = succ.right\n",
    "                    else:\n",
    "                        succ.parent.right = succ.right\n",
    "                    succ.right.parent = succ.parent\n",
    "                node.key = succ.key\n",
    "                node.value = succ.value\n",
    "            elif node.left is not None:\n",
    "                if node.is_left_child():\n",
    "                    node.left.parent = node.parent\n",
    "                    node.parent.left = node.left\n",
    "                elif node.is_right_child():\n",
    "                    node.left.parent = node.parent\n",
    "                    node.parent.right = node.left\n",
    "                else:\n",
    "                    node.key = node.left.key\n",
    "                    node.value = node.left.value\n",
    "                    node.left = node.left.left\n",
    "                    node.right = node.left.right\n",
    "            else:\n",
    "                if node.is_left_child():\n",
    "                    node.right.parent = node.parent\n",
    "                    node.parent.left = node.right\n",
    "                elif node.is_right_child():\n",
    "                    node.right.parent = node.parent\n",
    "                    node.parent.right = node.right\n",
    "                else:\n",
    "                    node.key = node.right.key\n",
    "                    node.value = node.right.value\n",
    "                    node.left = node.right.left\n",
    "                    node.right = node.right.right\n",
    "    \n",
    "    \n",
    "    def __len__(self):\n",
    "        return self.length()\n",
    "    \n",
    "    \n",
    "    def __iter__(self):\n",
    "        return self.root.__iter__()\n",
    "    \n",
    "    \n",
    "    def __setitem__(self, key, value):\n",
    "        self.put(key, value)\n",
    "        \n",
    "        \n",
    "    def __getitem__(self,key):\n",
    "        return self.get(key)\n",
    "    \n",
    "    def __contains__(self,key):\n",
    "        return self.get(key)"
   ]
  },
  {
   "cell_type": "code",
   "execution_count": 306,
   "metadata": {},
   "outputs": [],
   "source": [
    "class TreeNode:\n",
    "    \n",
    "    \n",
    "    def __init__(self, key, value, **kwargs):\n",
    "        self.key = key\n",
    "        self.value = value\n",
    "        self.left = kwargs.get('left')\n",
    "        self.right = kwargs.get('right')\n",
    "        self.parent = kwargs.get('parent')\n",
    "    \n",
    "    \n",
    "    def find_successor(self):\n",
    "        if self.right is not None:\n",
    "            succ = self.right.find_min_child()\n",
    "        elif self.parent is not None:\n",
    "            if self.is_left_child():\n",
    "                succ = self.parent\n",
    "            else:\n",
    "                self.parent.right = None\n",
    "                succ = self.parent.find_successor()\n",
    "                self.parent.right = self\n",
    "        return succ\n",
    "            \n",
    "    \n",
    "    def has_children(self):\n",
    "        return (self.right or self.left) is not None\n",
    "    \n",
    "    \n",
    "    def is_left_child(self):\n",
    "        if self.parent is not None:\n",
    "            return self == self.parent.left\n",
    "        return False\n",
    "    \n",
    "    def is_right_child(self):\n",
    "        if self.parent is not None:\n",
    "            return self == self.parent.right\n",
    "        return False\n",
    "    \n",
    "    \n",
    "    def find_min_child(self):\n",
    "        curr = self\n",
    "        while curr.left is not None:\n",
    "            curr = curr.left\n",
    "        return curr\n",
    "    "
   ]
  },
  {
   "cell_type": "code",
   "execution_count": 307,
   "metadata": {},
   "outputs": [],
   "source": [
    "bst = BinarySearchTree()"
   ]
  },
  {
   "cell_type": "code",
   "execution_count": 308,
   "metadata": {},
   "outputs": [
    {
     "data": {
      "text/plain": [
       "0"
      ]
     },
     "execution_count": 308,
     "metadata": {},
     "output_type": "execute_result"
    }
   ],
   "source": [
    "bst.length()"
   ]
  },
  {
   "cell_type": "code",
   "execution_count": 309,
   "metadata": {},
   "outputs": [],
   "source": [
    "bst.put('a', 1)"
   ]
  },
  {
   "cell_type": "code",
   "execution_count": 310,
   "metadata": {},
   "outputs": [
    {
     "data": {
      "text/plain": [
       "1"
      ]
     },
     "execution_count": 310,
     "metadata": {},
     "output_type": "execute_result"
    }
   ],
   "source": [
    "len(bst)"
   ]
  },
  {
   "cell_type": "code",
   "execution_count": 311,
   "metadata": {},
   "outputs": [],
   "source": [
    "bst['b'] = 2"
   ]
  },
  {
   "cell_type": "code",
   "execution_count": 312,
   "metadata": {},
   "outputs": [
    {
     "data": {
      "text/plain": [
       "2"
      ]
     },
     "execution_count": 312,
     "metadata": {},
     "output_type": "execute_result"
    }
   ],
   "source": [
    "bst.length()"
   ]
  },
  {
   "cell_type": "code",
   "execution_count": 313,
   "metadata": {},
   "outputs": [
    {
     "data": {
      "text/plain": [
       "1"
      ]
     },
     "execution_count": 313,
     "metadata": {},
     "output_type": "execute_result"
    }
   ],
   "source": [
    "bst['a']"
   ]
  },
  {
   "cell_type": "code",
   "execution_count": 314,
   "metadata": {},
   "outputs": [
    {
     "data": {
      "text/plain": [
       "<__main__.TreeNode at 0x32d02d0>"
      ]
     },
     "execution_count": 314,
     "metadata": {},
     "output_type": "execute_result"
    }
   ],
   "source": [
    "bst.delete('a')"
   ]
  },
  {
   "cell_type": "code",
   "execution_count": 315,
   "metadata": {},
   "outputs": [
    {
     "data": {
      "text/plain": [
       "1"
      ]
     },
     "execution_count": 315,
     "metadata": {},
     "output_type": "execute_result"
    }
   ],
   "source": [
    "len(bst)"
   ]
  },
  {
   "cell_type": "code",
   "execution_count": 316,
   "metadata": {},
   "outputs": [],
   "source": [
    "bst._find(bst.root, 'a')"
   ]
  },
  {
   "cell_type": "code",
   "execution_count": 317,
   "metadata": {},
   "outputs": [],
   "source": [
    "bst['a']"
   ]
  },
  {
   "cell_type": "code",
   "execution_count": 318,
   "metadata": {},
   "outputs": [
    {
     "data": {
      "text/plain": [
       "2"
      ]
     },
     "execution_count": 318,
     "metadata": {},
     "output_type": "execute_result"
    }
   ],
   "source": [
    "bst['b']"
   ]
  },
  {
   "cell_type": "code",
   "execution_count": 319,
   "metadata": {},
   "outputs": [],
   "source": [
    "bst['c'] = 2\n",
    "bst['a'] = 1"
   ]
  },
  {
   "cell_type": "code",
   "execution_count": 320,
   "metadata": {},
   "outputs": [
    {
     "data": {
      "text/plain": [
       "3"
      ]
     },
     "execution_count": 320,
     "metadata": {},
     "output_type": "execute_result"
    }
   ],
   "source": [
    "bst.length()"
   ]
  },
  {
   "cell_type": "code",
   "execution_count": 321,
   "metadata": {},
   "outputs": [],
   "source": [
    "bst['f'] = 0\n",
    "bst['e'] = 1\n",
    "bst['g'] = 2"
   ]
  },
  {
   "cell_type": "code",
   "execution_count": 322,
   "metadata": {},
   "outputs": [
    {
     "data": {
      "text/plain": [
       "6"
      ]
     },
     "execution_count": 322,
     "metadata": {},
     "output_type": "execute_result"
    }
   ],
   "source": [
    "bst.length()"
   ]
  },
  {
   "cell_type": "code",
   "execution_count": 323,
   "metadata": {},
   "outputs": [
    {
     "data": {
      "text/plain": [
       "'g'"
      ]
     },
     "execution_count": 323,
     "metadata": {},
     "output_type": "execute_result"
    }
   ],
   "source": [
    "bst._find(bst.root, 'f').find_successor().key"
   ]
  },
  {
   "cell_type": "code",
   "execution_count": 324,
   "metadata": {},
   "outputs": [
    {
     "name": "stdout",
     "output_type": "stream",
     "text": [
      "e\n",
      "g\n"
     ]
    }
   ],
   "source": [
    "print(bst._find(bst.root, 'f').left.key)\n",
    "print(bst._find(bst.root, 'f').right.key)"
   ]
  },
  {
   "cell_type": "code",
   "execution_count": 325,
   "metadata": {},
   "outputs": [
    {
     "data": {
      "text/plain": [
       "<__main__.TreeNode at 0x32d0930>"
      ]
     },
     "execution_count": 325,
     "metadata": {},
     "output_type": "execute_result"
    }
   ],
   "source": [
    "bst.delete('f')"
   ]
  },
  {
   "cell_type": "code",
   "execution_count": 326,
   "metadata": {},
   "outputs": [
    {
     "data": {
      "text/plain": [
       "5"
      ]
     },
     "execution_count": 326,
     "metadata": {},
     "output_type": "execute_result"
    }
   ],
   "source": [
    "bst.length()"
   ]
  },
  {
   "cell_type": "code",
   "execution_count": 327,
   "metadata": {},
   "outputs": [
    {
     "data": {
      "text/plain": [
       "'e'"
      ]
     },
     "execution_count": 327,
     "metadata": {},
     "output_type": "execute_result"
    }
   ],
   "source": [
    "bst._find(bst.root, 'g').left.key"
   ]
  },
  {
   "cell_type": "code",
   "execution_count": 328,
   "metadata": {},
   "outputs": [
    {
     "data": {
      "text/plain": [
       "<__main__.TreeNode at 0x32d02d0>"
      ]
     },
     "execution_count": 328,
     "metadata": {},
     "output_type": "execute_result"
    }
   ],
   "source": [
    "bst.delete('b')"
   ]
  },
  {
   "cell_type": "code",
   "execution_count": 329,
   "metadata": {},
   "outputs": [
    {
     "data": {
      "text/plain": [
       "'c'"
      ]
     },
     "execution_count": 329,
     "metadata": {},
     "output_type": "execute_result"
    }
   ],
   "source": [
    "bst.root.key"
   ]
  },
  {
   "cell_type": "code",
   "execution_count": null,
   "metadata": {},
   "outputs": [],
   "source": []
  }
 ],
 "metadata": {
  "kernelspec": {
   "display_name": "Python 3",
   "language": "python",
   "name": "python3"
  },
  "language_info": {
   "codemirror_mode": {
    "name": "ipython",
    "version": 3
   },
   "file_extension": ".py",
   "mimetype": "text/x-python",
   "name": "python",
   "nbconvert_exporter": "python",
   "pygments_lexer": "ipython3",
   "version": "3.6.2"
  }
 },
 "nbformat": 4,
 "nbformat_minor": 2
}
