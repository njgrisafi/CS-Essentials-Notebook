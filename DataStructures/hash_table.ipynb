{
 "cells": [
  {
   "cell_type": "code",
   "execution_count": 101,
   "metadata": {
    "collapsed": false
   },
   "outputs": [],
   "source": [
    "class HashTable:\n",
    "    def __init__(self, size):\n",
    "        self.table = [None] * size\n",
    "        self.count = 0\n",
    "        self.threshold = .75\n",
    "        \n",
    "    \n",
    "    def __str__(self):\n",
    "        result = [\"table: \\n\"]\n",
    "        for i in range(len(self.table)):\n",
    "            if(self.table[i]):\n",
    "                result.append(\"index:{0}, value:{1} \\n\".format(i, self.table[i]))\n",
    "        return \"\".join(result)\n",
    "    \n",
    "    \n",
    "    def insert(self, item):\n",
    "        item_hash_key = self.hash_key(item, len(self.table))\n",
    "        while(self.table[item_hash_key]):\n",
    "            item_hash_key = self.rehash_key(item_hash_key, len(self.table))\n",
    "        self.table[item_hash_key] = item\n",
    "        self.count += 1\n",
    "        if(self.count / len(self.table) >= self.threshold):\n",
    "            self.resize()\n",
    "            \n",
    "            \n",
    "    def get(self, item):\n",
    "        item_hash_key = self.hash_key(item, len(self.table))\n",
    "        while(self.table[item_hash_key] != item):\n",
    "            item_hash_key = rehash_key(item_hash_key, len(self.table))\n",
    "        return self.table[item_hash_key]\n",
    "\n",
    "            \n",
    "    def hash_key(self, key, size):\n",
    "        hash_key = 0\n",
    "        for c in key:\n",
    "            hash_key += ord(c)\n",
    "        return hash_key % size\n",
    "    \n",
    "    \n",
    "    def rehash_key(self, key, size):\n",
    "        return (key + 1) % size\n",
    "    \n",
    "    \n",
    "    def resize(self):\n",
    "        print(\"resizing\")\n",
    "        new_table = [None] * (len(self.table) * 2)\n",
    "        for i in range(len(self.table)):\n",
    "            value = self.table[i]\n",
    "            if(value):\n",
    "                new_hash_key = self.hash_key(value, len(new_table))\n",
    "                while(new_table[new_hash_key]):\n",
    "                    new_hash_key = self.rehash_key(new_hash_key, len(new_table))\n",
    "                new_table[new_hash_key] = value\n",
    "        self.table = new_table\n",
    "        print(\"new size is {0}\".format(len(new_table)))\n",
    "        \n",
    "        \n",
    "    def size(self):\n",
    "        return self.count"
   ]
  },
  {
   "cell_type": "code",
   "execution_count": 102,
   "metadata": {
    "collapsed": true
   },
   "outputs": [],
   "source": [
    "table = HashTable(1)"
   ]
  },
  {
   "cell_type": "code",
   "execution_count": 103,
   "metadata": {
    "collapsed": false
   },
   "outputs": [
    {
     "name": "stdout",
     "output_type": "stream",
     "text": [
      "table: \n",
      "\n"
     ]
    }
   ],
   "source": [
    "print(table)"
   ]
  },
  {
   "cell_type": "code",
   "execution_count": 104,
   "metadata": {
    "collapsed": false
   },
   "outputs": [
    {
     "name": "stdout",
     "output_type": "stream",
     "text": [
      "resizing\n",
      "new size is 2\n"
     ]
    }
   ],
   "source": [
    "table.insert(\"cat\")"
   ]
  },
  {
   "cell_type": "code",
   "execution_count": 105,
   "metadata": {
    "collapsed": false
   },
   "outputs": [
    {
     "data": {
      "text/plain": [
       "1"
      ]
     },
     "execution_count": 105,
     "metadata": {},
     "output_type": "execute_result"
    }
   ],
   "source": [
    "table.size()"
   ]
  },
  {
   "cell_type": "code",
   "execution_count": 106,
   "metadata": {
    "collapsed": false
   },
   "outputs": [
    {
     "name": "stdout",
     "output_type": "stream",
     "text": [
      "table: \n",
      "index:0, value:cat \n",
      "\n"
     ]
    }
   ],
   "source": [
    "print(table)"
   ]
  },
  {
   "cell_type": "code",
   "execution_count": 107,
   "metadata": {
    "collapsed": false
   },
   "outputs": [
    {
     "name": "stdout",
     "output_type": "stream",
     "text": [
      "resizing\n",
      "new size is 4\n"
     ]
    }
   ],
   "source": [
    "table.insert(\"cat\")"
   ]
  },
  {
   "cell_type": "code",
   "execution_count": 108,
   "metadata": {
    "collapsed": false
   },
   "outputs": [
    {
     "name": "stdout",
     "output_type": "stream",
     "text": [
      "table: \n",
      "index:0, value:cat \n",
      "index:1, value:cat \n",
      "\n"
     ]
    }
   ],
   "source": [
    "print(table)"
   ]
  },
  {
   "cell_type": "code",
   "execution_count": 109,
   "metadata": {
    "collapsed": false
   },
   "outputs": [
    {
     "name": "stdout",
     "output_type": "stream",
     "text": [
      "resizing\n",
      "new size is 8\n",
      "resizing\n",
      "new size is 16\n"
     ]
    }
   ],
   "source": [
    "table.insert(\"dog\")\n",
    "table.insert(\"pug\")\n",
    "table.insert(\"bird\")\n",
    "table.insert(\"fish\")\n",
    "table.insert(\"elephant\")"
   ]
  },
  {
   "cell_type": "code",
   "execution_count": 110,
   "metadata": {
    "collapsed": false
   },
   "outputs": [
    {
     "name": "stdout",
     "output_type": "stream",
     "text": [
      "table: \n",
      "index:1, value:bird \n",
      "index:2, value:elephant \n",
      "index:8, value:cat \n",
      "index:9, value:cat \n",
      "index:10, value:dog \n",
      "index:11, value:fish \n",
      "index:12, value:pug \n",
      "\n"
     ]
    }
   ],
   "source": [
    "print(table)"
   ]
  },
  {
   "cell_type": "code",
   "execution_count": null,
   "metadata": {
    "collapsed": true
   },
   "outputs": [],
   "source": []
  }
 ],
 "metadata": {
  "kernelspec": {
   "display_name": "Python 3",
   "language": "python",
   "name": "python3"
  },
  "language_info": {
   "codemirror_mode": {
    "name": "ipython",
    "version": 3
   },
   "file_extension": ".py",
   "mimetype": "text/x-python",
   "name": "python",
   "nbconvert_exporter": "python",
   "pygments_lexer": "ipython3",
   "version": "3.6.2"
  }
 },
 "nbformat": 4,
 "nbformat_minor": 2
}
