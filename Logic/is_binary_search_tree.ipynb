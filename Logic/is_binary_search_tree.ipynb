{
 "cells": [
  {
   "cell_type": "code",
   "execution_count": 3,
   "metadata": {},
   "outputs": [],
   "source": [
    "def check_binary_search_tree_(root):\n",
    "    if root is None:\n",
    "        return True\n",
    "    return is_binary_search_tree(root, float('-inf'), float('inf'))"
   ]
  },
  {
   "cell_type": "code",
   "execution_count": 4,
   "metadata": {},
   "outputs": [],
   "source": [
    "def is_binary_search_tree(node, min, max):\n",
    "    if node.data <= min or node.data >= max:\n",
    "        return False\n",
    "    left_bst = True\n",
    "    right_bst = True\n",
    "    if node.left is not None:\n",
    "        left_bst = is_binary_search_tree(node.left, min, node.data)\n",
    "    if node.right is not None:\n",
    "        right_bst = is_binary_search_tree(node.right, node.data, max)\n",
    "    return left_bst and right_bst"
   ]
  },
  {
   "cell_type": "code",
   "execution_count": 5,
   "metadata": {},
   "outputs": [],
   "source": [
    "class Node:\n",
    "    def __init__(self, data):\n",
    "        self.data = data\n",
    "        self.left = None\n",
    "        self.right = None"
   ]
  },
  {
   "cell_type": "markdown",
   "metadata": {},
   "source": [
    "            3\n",
    "          /   \\\n",
    "         5     2\n",
    "        / \\   /\n",
    "       1   4 6\n",
    "       \n",
    "       Should return 'No'"
   ]
  },
  {
   "cell_type": "code",
   "execution_count": 11,
   "metadata": {},
   "outputs": [],
   "source": [
    "root = Node(3)\n",
    "root.left = Node(5)\n",
    "root.left.left = Node(1)\n",
    "root.left.right = Node(4)\n",
    "root.right = Node(2)\n",
    "root.right.left = Node(6)"
   ]
  },
  {
   "cell_type": "code",
   "execution_count": 12,
   "metadata": {},
   "outputs": [
    {
     "data": {
      "text/plain": [
       "'No'"
      ]
     },
     "execution_count": 12,
     "metadata": {},
     "output_type": "execute_result"
    }
   ],
   "source": [
    "'Yes' if check_binary_search_tree_(root) is True else 'No'"
   ]
  },
  {
   "cell_type": "markdown",
   "metadata": {},
   "source": [
    "            3\n",
    "          /   \\\n",
    "         1     4\n",
    "        /       \\\n",
    "       0         6\n",
    "       \n",
    "       Should return 'Yes'"
   ]
  },
  {
   "cell_type": "code",
   "execution_count": 15,
   "metadata": {},
   "outputs": [],
   "source": [
    "root = Node(3)\n",
    "root.left = Node(1)\n",
    "root.left.left = Node(0)\n",
    "root.right = Node(4)\n",
    "root.right.right = Node(6)"
   ]
  },
  {
   "cell_type": "code",
   "execution_count": 16,
   "metadata": {},
   "outputs": [
    {
     "data": {
      "text/plain": [
       "'Yes'"
      ]
     },
     "execution_count": 16,
     "metadata": {},
     "output_type": "execute_result"
    }
   ],
   "source": [
    "'Yes' if check_binary_search_tree_(root) is True else 'No'"
   ]
  },
  {
   "cell_type": "code",
   "execution_count": null,
   "metadata": {},
   "outputs": [],
   "source": []
  }
 ],
 "metadata": {
  "kernelspec": {
   "display_name": "Python 3",
   "language": "python",
   "name": "python3"
  },
  "language_info": {
   "codemirror_mode": {
    "name": "ipython",
    "version": 3
   },
   "file_extension": ".py",
   "mimetype": "text/x-python",
   "name": "python",
   "nbconvert_exporter": "python",
   "pygments_lexer": "ipython3",
   "version": "3.6.2"
  }
 },
 "nbformat": 4,
 "nbformat_minor": 2
}
