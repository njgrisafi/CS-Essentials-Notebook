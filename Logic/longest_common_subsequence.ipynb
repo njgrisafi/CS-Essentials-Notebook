{
 "cells": [
  {
   "cell_type": "code",
   "execution_count": 38,
   "metadata": {},
   "outputs": [],
   "source": [
    "import time"
   ]
  },
  {
   "cell_type": "code",
   "execution_count": 39,
   "metadata": {},
   "outputs": [],
   "source": [
    "def LCS_recursive(P,Q,i,j):\n",
    "    if i == 0 or j == 0: # basecase\n",
    "        return 0\n",
    "    if P[i-1] == Q[j-1]: # the backs are equal\n",
    "        return 1 + LCS_recursive(P,Q,i-1, j-1)\n",
    "    else:\n",
    "        return max(LCS_recursive(P,Q,i-1, j), LCS_recursive(P,Q,i, j-1))"
   ]
  },
  {
   "cell_type": "code",
   "execution_count": 51,
   "metadata": {},
   "outputs": [],
   "source": [
    "def LCS_memoize(P,Q,i,j,mem):\n",
    "    if mem[i][j]: # result exists in memory\n",
    "        return mem[i][j]\n",
    "    if i == 0 or j == 0:\n",
    "        result = 0\n",
    "    elif P[i-1] == Q[j-1]:\n",
    "        result = 1 + LCS_recursive(P,Q,i-1, j-1)\n",
    "    else:\n",
    "        result = max(LCS_recursive(P,Q,i-1, j), LCS_recursive(P,Q,i, j-1))\n",
    "    mem[i][j] = result\n",
    "    return result"
   ]
  },
  {
   "cell_type": "code",
   "execution_count": 49,
   "metadata": {},
   "outputs": [
    {
     "data": {
      "text/plain": [
       "3"
      ]
     },
     "execution_count": 49,
     "metadata": {},
     "output_type": "execute_result"
    }
   ],
   "source": [
    "P = \"BADDG\"\n",
    "Q = \"ABLAKD\"\n",
    "LCS_recursive(P, Q, len(P), len(Q))"
   ]
  },
  {
   "cell_type": "code",
   "execution_count": 50,
   "metadata": {},
   "outputs": [
    {
     "name": "stdout",
     "output_type": "stream",
     "text": [
      "0\n",
      "ran in 76.70012903213501 seconds\n"
     ]
    }
   ],
   "source": [
    "start = time.time()\n",
    "P = \"AAAAAAAAAAAAAAA\"\n",
    "Q = \"BBBBBBBBBBBBBBB\"\n",
    "print(LCS_recursive(P, Q, len(P), len(Q)))\n",
    "print(\"ran in {0} seconds\".format(time.time() - start))"
   ]
  },
  {
   "cell_type": "code",
   "execution_count": 43,
   "metadata": {},
   "outputs": [],
   "source": [
    "# recursive solution O(2^(n*m))\n",
    "# slow because you recalculate results as you are recursiing"
   ]
  },
  {
   "cell_type": "code",
   "execution_count": 52,
   "metadata": {},
   "outputs": [
    {
     "name": "stdout",
     "output_type": "stream",
     "text": [
      "0\n",
      "ran in 76.69762229919434 seconds\n"
     ]
    }
   ],
   "source": [
    "mem = [[None for j in range(len(Q) + 1)] for i in range(len(Q) + 1)] # 2D array of size n*m for storing index results\n",
    "start = time.time()\n",
    "P = \"AAAAAAAAAAAAAAA\"\n",
    "Q = \"BBBBBBBBBBBBBBB\"\n",
    "print(LCS_memoize(P,Q,len(P), len(Q), mem))\n",
    "print(\"ran in {0} seconds\".format(time.time() - start))"
   ]
  },
  {
   "cell_type": "code",
   "execution_count": null,
   "metadata": {},
   "outputs": [],
   "source": [
    "P = \"BADDG\"\n",
    "Q = \"ABLAKD\"\n",
    "mem = [[None for j in range(len(Q) + 1)] for i in range(len(Q) + 1)] # 2D array n*m for storing index results\n",
    "LCS_memoize(P,Q,len(P), len(Q), mem)"
   ]
  },
  {
   "cell_type": "code",
   "execution_count": 31,
   "metadata": {},
   "outputs": [],
   "source": [
    "# memoized solution is O(n*m)\n",
    "# you only need to build the n*m result matrix rather than creating the whole recursive tree"
   ]
  },
  {
   "cell_type": "code",
   "execution_count": null,
   "metadata": {},
   "outputs": [],
   "source": []
  }
 ],
 "metadata": {
  "kernelspec": {
   "display_name": "Python 3",
   "language": "python",
   "name": "python3"
  },
  "language_info": {
   "codemirror_mode": {
    "name": "ipython",
    "version": 3
   },
   "file_extension": ".py",
   "mimetype": "text/x-python",
   "name": "python",
   "nbconvert_exporter": "python",
   "pygments_lexer": "ipython3",
   "version": "3.6.2"
  }
 },
 "nbformat": 4,
 "nbformat_minor": 2
}
