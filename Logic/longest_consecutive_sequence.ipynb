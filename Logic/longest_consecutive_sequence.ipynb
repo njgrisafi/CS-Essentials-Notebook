{
 "cells": [
  {
   "cell_type": "code",
   "execution_count": null,
   "metadata": {},
   "outputs": [],
   "source": []
  },
  {
   "cell_type": "code",
   "execution_count": 14,
   "metadata": {},
   "outputs": [],
   "source": [
    "def find_lcs(seq):\n",
    "    i = 0\n",
    "    curr_char = None\n",
    "    prev_char = seq[i]\n",
    "    curr_char_count = 0\n",
    "    max_char = None\n",
    "    max_char_count = 0\n",
    "    while(i < len(seq)):\n",
    "        curr_char = seq[i]\n",
    "        if(curr == prev):\n",
    "            curr_char_count += 1\n",
    "        else:\n",
    "            curr_char_count = 1\n",
    "        if(curr_char_count >= max_char_count):\n",
    "            max_char = prev_char\n",
    "            max_char_count = curr_count\n",
    "        prev = curr\n",
    "        i += 1\n",
    "    return { max_char: max_char_count }"
   ]
  },
  {
   "cell_type": "code",
   "execution_count": 15,
   "metadata": {},
   "outputs": [
    {
     "data": {
      "text/plain": [
       "{'X': 5}"
      ]
     },
     "execution_count": 15,
     "metadata": {},
     "output_type": "execute_result"
    }
   ],
   "source": [
    "find_lcs(\"AABBWWWWZYXXXXX\")"
   ]
  },
  {
   "cell_type": "code",
   "execution_count": null,
   "metadata": {},
   "outputs": [],
   "source": [
    "# runtime O(n)"
   ]
  }
 ],
 "metadata": {
  "kernelspec": {
   "display_name": "Python 3",
   "language": "python",
   "name": "python3"
  },
  "language_info": {
   "codemirror_mode": {
    "name": "ipython",
    "version": 3
   },
   "file_extension": ".py",
   "mimetype": "text/x-python",
   "name": "python",
   "nbconvert_exporter": "python",
   "pygments_lexer": "ipython3",
   "version": "3.6.2"
  }
 },
 "nbformat": 4,
 "nbformat_minor": 2
}
