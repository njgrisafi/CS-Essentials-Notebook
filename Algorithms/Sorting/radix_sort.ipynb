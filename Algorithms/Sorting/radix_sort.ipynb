{
 "cells": [
  {
   "cell_type": "code",
   "execution_count": 31,
   "metadata": {},
   "outputs": [],
   "source": [
    "def counting_sort(n, b, nums, d):\n",
    "    result = [0] * n\n",
    "    counts = [0] * b\n",
    "    indexes = [0] * b\n",
    "    for num in nums: # count numbers\n",
    "        i = (num//d) % b\n",
    "        counts[i] += 1\n",
    "    for i in range(1, b): # position counts\n",
    "        counts[i] += counts[i-1]\n",
    "    for i in range(b-1): # set starting indexes\n",
    "        indexes[i+1] = counts[i]\n",
    "    for num in nums: # insert numbers sorted and increment index\n",
    "        i = (num//d) % b\n",
    "        j = indexes[i]\n",
    "        indexes[i] += 1\n",
    "        result[j] = num\n",
    "    for i in range(n): # modify original array\n",
    "        nums[i] = result[i]"
   ]
  },
  {
   "cell_type": "code",
   "execution_count": 32,
   "metadata": {},
   "outputs": [],
   "source": [
    "def radix_sort(n, b, nums):\n",
    "    max_num = max(nums)\n",
    "    d = 1\n",
    "    while max_num/d > 0: # loop through each decimal place and sort\n",
    "        counting_sort(n, b, nums, d)\n",
    "        d *= 10"
   ]
  },
  {
   "cell_type": "code",
   "execution_count": 33,
   "metadata": {},
   "outputs": [
    {
     "name": "stdout",
     "output_type": "stream",
     "text": [
      "[0, 1, 1, 1, 3, 3, 8, 20, 200, 4005]\n"
     ]
    }
   ],
   "source": [
    "nums = [200, 0,1,8,20,3,1,3,1,4005]\n",
    "n = len(nums)\n",
    "b = 10\n",
    "radix_sort(n,b,nums)\n",
    "print(nums)"
   ]
  },
  {
   "cell_type": "code",
   "execution_count": null,
   "metadata": {},
   "outputs": [],
   "source": [
    "# Radix sort uses counting sort on each decimal place over an array of numbers\n",
    "# Since Counting sort runs in O(n + b)\n",
    "# and radix sort has to do that over d digits\n",
    "# the run time should be O(d*(n + b))\n",
    "# say k is the max number\n",
    "# than the max digits d = log(k)\n",
    "# so O(log(k) * (n + b))\n"
   ]
  }
 ],
 "metadata": {
  "kernelspec": {
   "display_name": "Python 3",
   "language": "python",
   "name": "python3"
  },
  "language_info": {
   "codemirror_mode": {
    "name": "ipython",
    "version": 3
   },
   "file_extension": ".py",
   "mimetype": "text/x-python",
   "name": "python",
   "nbconvert_exporter": "python",
   "pygments_lexer": "ipython3",
   "version": "3.6.2"
  }
 },
 "nbformat": 4,
 "nbformat_minor": 2
}
