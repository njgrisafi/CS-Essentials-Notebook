{
 "cells": [
  {
   "cell_type": "code",
   "execution_count": 25,
   "metadata": {},
   "outputs": [],
   "source": [
    "def counting_sort(n, m, exp, nums):\n",
    "    result = [0] * n\n",
    "    counts = [0] * m\n",
    "    indexes = [0] * m\n",
    "    for num in nums:\n",
    "        i = (num//exp) % m\n",
    "        counts[i] += 1\n",
    "    for i in range(1, m):\n",
    "        counts[i] += counts[i-1]\n",
    "    for i in range(m-1):\n",
    "        indexes[i+1] = counts[i]\n",
    "    for num in nums:\n",
    "        i = indexes[num]\n",
    "        indexes[num] += 1\n",
    "        result[i] = num\n",
    "    print(result)"
   ]
  },
  {
   "cell_type": "code",
   "execution_count": 28,
   "metadata": {},
   "outputs": [
    {
     "name": "stdout",
     "output_type": "stream",
     "text": [
      "[0, 1, 1, 1, 3, 3, 4]\n"
     ]
    }
   ],
   "source": [
    "n = 7\n",
    "m = 5\n",
    "exp = 1\n",
    "nums = [1,4,0,3,1,3,1]\n",
    "counting_sort(n,m,exp,nums)"
   ]
  },
  {
   "cell_type": "code",
   "execution_count": null,
   "metadata": {},
   "outputs": [],
   "source": [
    "# counting sort\n",
    "# it is a stable sorting algorithm\n",
    "# Time: O(n+m)\n",
    "# Space: O(n+m)"
   ]
  }
 ],
 "metadata": {
  "kernelspec": {
   "display_name": "Python 3",
   "language": "python",
   "name": "python3"
  },
  "language_info": {
   "codemirror_mode": {
    "name": "ipython",
    "version": 3
   },
   "file_extension": ".py",
   "mimetype": "text/x-python",
   "name": "python",
   "nbconvert_exporter": "python",
   "pygments_lexer": "ipython3",
   "version": "3.6.2"
  }
 },
 "nbformat": 4,
 "nbformat_minor": 2
}
