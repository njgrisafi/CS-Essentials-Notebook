{
 "cells": [
  {
   "cell_type": "code",
   "execution_count": 62,
   "metadata": {},
   "outputs": [],
   "source": [
    "def dfs_iterative(graph, start, target):\n",
    "    directions = [(1,0), (-1,0), (0,1), (0,-1)]\n",
    "    visited = set()\n",
    "    stack = []\n",
    "    stack.insert(0, start)\n",
    "    while len(stack) is not 0:\n",
    "        indexes = stack.pop() # pop top node\n",
    "        visited.add(indexes) # visit the node\n",
    "        if graph[indexes[0]][indexes[1]] is 1: # is connected check\n",
    "            if indexes == target: # is target check\n",
    "                return True # target found and reachable\n",
    "            for direction in directions: # gather adjacent indexes\n",
    "                next_x = direction[0] + indexes[0]\n",
    "                next_y = direction[1] + indexes[1]\n",
    "                if (0 <= next_x < len(graph) and 0 <= next_y < len(graph[0])) and (next_x, next_y) not in visited: # bounds and visited check\n",
    "                    stack.insert(0, (next_x, next_y)) # put on adjacent nodes 'top' of stack\n",
    "    return False # target index not reachable from start index"
   ]
  },
  {
   "cell_type": "code",
   "execution_count": 63,
   "metadata": {},
   "outputs": [],
   "source": [
    "def dfs_recursion(graph, current, target, visited=set()):\n",
    "    visited.add(current) # visit the node\n",
    "    if graph[current[0]][current[1]] is 1: # is connected check\n",
    "        if current == target: # node is target check\n",
    "            return True\n",
    "        directions = [(1,0), (-1,0), (0,1), (0,-1)]\n",
    "        for direction in directions: # gather adjacent indexes\n",
    "            next_x = direction[0] + current[0]\n",
    "            next_y = direction[1] + current[1]\n",
    "            if (0 <= next_x < len(graph) and 0 <= next_y < len(graph[0])) and (next_x, next_y) not in visited: # bounds and visited check\n",
    "                if dfs_recursion(graph, (next_x, next_y), target, visited=visited) is True: # target is found check\n",
    "                    return True # target is reachable from this node\n",
    "    return False # target is not reachable from this node"
   ]
  },
  {
   "cell_type": "code",
   "execution_count": 71,
   "metadata": {},
   "outputs": [],
   "source": [
    "def dfs_recursion_with_path(graph, current, target, visited=set(), path=[]):\n",
    "    visited.add(current) # visit the node\n",
    "    if graph[current[0]][current[1]] is 1: # is connected check\n",
    "        path.append(current) # add node to path\n",
    "        if current == target: # node is target check\n",
    "            return True\n",
    "        directions = [(1,0), (-1,0), (0,1), (0,-1)]\n",
    "        for direction in directions: # gather adjacent indexes\n",
    "            next_x = direction[0] + current[0]\n",
    "            next_y = direction[1] + current[1]\n",
    "            if (0 <= next_x < len(graph) and 0 <= next_y < len(graph[0])) and (next_x, next_y) not in visited: # bounds and visited check\n",
    "                if dfs_recursion_with_path(graph, (next_x, next_y), target, visited=visited, path=path) is True: # target is found check\n",
    "                    return True # target is reachable from this node\n",
    "    path = path[:-1] # remove this node from the path\n",
    "    return False # target is not reachable from this node"
   ]
  },
  {
   "cell_type": "code",
   "execution_count": 72,
   "metadata": {},
   "outputs": [],
   "source": [
    "graph = [\n",
    "    [1,0,0,0],\n",
    "    [1,1,0,0],\n",
    "    [0,1,1,1],\n",
    "    [0,0,0,1]\n",
    "]\n",
    "start = (0,0)\n",
    "target = (3,3)"
   ]
  },
  {
   "cell_type": "code",
   "execution_count": 73,
   "metadata": {},
   "outputs": [
    {
     "data": {
      "text/plain": [
       "True"
      ]
     },
     "execution_count": 73,
     "metadata": {},
     "output_type": "execute_result"
    }
   ],
   "source": [
    "dfs_iterative(graph, start, target)"
   ]
  },
  {
   "cell_type": "code",
   "execution_count": 74,
   "metadata": {},
   "outputs": [
    {
     "data": {
      "text/plain": [
       "True"
      ]
     },
     "execution_count": 74,
     "metadata": {},
     "output_type": "execute_result"
    }
   ],
   "source": [
    "dfs_recursion(graph, start, target, visited=set())"
   ]
  },
  {
   "cell_type": "code",
   "execution_count": 76,
   "metadata": {},
   "outputs": [
    {
     "data": {
      "text/plain": [
       "[(0, 0), (1, 0), (1, 1), (2, 1), (2, 2), (2, 3), (3, 3)]"
      ]
     },
     "execution_count": 76,
     "metadata": {},
     "output_type": "execute_result"
    }
   ],
   "source": [
    "path = []\n",
    "dfs_recursion_with_path(graph, start, target, visited=set(), path=path)\n",
    "path"
   ]
  },
  {
   "cell_type": "code",
   "execution_count": null,
   "metadata": {},
   "outputs": [],
   "source": []
  }
 ],
 "metadata": {
  "kernelspec": {
   "display_name": "Python 3",
   "language": "python",
   "name": "python3"
  },
  "language_info": {
   "codemirror_mode": {
    "name": "ipython",
    "version": 3
   },
   "file_extension": ".py",
   "mimetype": "text/x-python",
   "name": "python",
   "nbconvert_exporter": "python",
   "pygments_lexer": "ipython3",
   "version": "3.6.2"
  }
 },
 "nbformat": 4,
 "nbformat_minor": 2
}
