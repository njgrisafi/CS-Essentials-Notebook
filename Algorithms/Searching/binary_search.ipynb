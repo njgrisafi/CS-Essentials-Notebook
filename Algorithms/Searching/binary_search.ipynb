{
 "cells": [
  {
   "cell_type": "code",
   "execution_count": 1,
   "metadata": {},
   "outputs": [],
   "source": [
    "def binary_search(sorted_arr, query):\n",
    "    low = 0 # lowest index\n",
    "    high = len(sorted_arr) - 1 # highest index\n",
    "    while(low <= high): # while indexes are in range\n",
    "        mid = (low + high) // 2 # grab middle index\n",
    "        if(query > sorted_arr[mid]): # query is in upperhalf\n",
    "            low = mid + 1\n",
    "        elif(query < sorted_arr[mid]): # query in lowerhalf\n",
    "            high = mid - 1\n",
    "        else:\n",
    "            return mid # query found\n",
    "    return -1"
   ]
  },
  {
   "cell_type": "code",
   "execution_count": 14,
   "metadata": {},
   "outputs": [
    {
     "name": "stdout",
     "output_type": "stream",
     "text": [
      "4\n"
     ]
    }
   ],
   "source": [
    "x = [0,1,2,3,4,5,6,7]\n",
    "q = 4\n",
    "print(binary_search(x, q))"
   ]
  },
  {
   "cell_type": "code",
   "execution_count": 15,
   "metadata": {
    "collapsed": true
   },
   "outputs": [],
   "source": [
    "# Big-O is O(log(n))\n",
    "# because you break the array of size n into halves for searching\n",
    "# you do this n/2^k times. Where k is the pass number.\n",
    "# hence O(log(n))"
   ]
  },
  {
   "cell_type": "code",
   "execution_count": null,
   "metadata": {
    "collapsed": true
   },
   "outputs": [],
   "source": []
  }
 ],
 "metadata": {
  "kernelspec": {
   "display_name": "Python 3",
   "language": "python",
   "name": "python3"
  },
  "language_info": {
   "codemirror_mode": {
    "name": "ipython",
    "version": 3
   },
   "file_extension": ".py",
   "mimetype": "text/x-python",
   "name": "python",
   "nbconvert_exporter": "python",
   "pygments_lexer": "ipython3",
   "version": "3.6.2"
  }
 },
 "nbformat": 4,
 "nbformat_minor": 2
}
