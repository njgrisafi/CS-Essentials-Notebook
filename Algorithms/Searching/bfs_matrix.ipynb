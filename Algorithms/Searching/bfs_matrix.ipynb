{
 "cells": [
  {
   "cell_type": "code",
   "execution_count": 8,
   "metadata": {},
   "outputs": [],
   "source": [
    "def bfs_iterative(graph, start, target):\n",
    "    queue = []\n",
    "    visited = set()\n",
    "    directions = [(1,0), (-1,0), (0,1), (0,-1)] # up, down, right, left\n",
    "    queue.append(start)\n",
    "    while len(queue) is not 0:\n",
    "        indexes = queue.pop()\n",
    "        visited.add(indexes)\n",
    "        if graph[indexes[0]][indexes[1]] is 1:\n",
    "            if indexes == target:\n",
    "                return True\n",
    "            for direction in directions:\n",
    "                next_x = indexes[0] + direction[0]\n",
    "                next_y = indexes[1] + direction[1]\n",
    "                if (0 <= next_x < len(graph) and 0 <= next_y < len(graph[0])) and (next_x, next_y) not in visited:\n",
    "                    queue.append((next_x, next_y))\n",
    "    return False"
   ]
  },
  {
   "cell_type": "code",
   "execution_count": 9,
   "metadata": {},
   "outputs": [],
   "source": [
    "def bfs_recursion(graph, start, target, visited=set()):\n",
    "    return"
   ]
  },
  {
   "cell_type": "code",
   "execution_count": 14,
   "metadata": {},
   "outputs": [],
   "source": [
    "graph = [\n",
    "    [1,0,0,0],\n",
    "    [1,1,0,0],\n",
    "    [0,1,1,1],\n",
    "    [0,0,0,1]\n",
    "]\n",
    "start = (0,0)\n",
    "target = (3,3)"
   ]
  },
  {
   "cell_type": "code",
   "execution_count": 15,
   "metadata": {},
   "outputs": [
    {
     "data": {
      "text/plain": [
       "True"
      ]
     },
     "execution_count": 15,
     "metadata": {},
     "output_type": "execute_result"
    }
   ],
   "source": [
    "bfs_iterative(graph, start, target)"
   ]
  },
  {
   "cell_type": "code",
   "execution_count": null,
   "metadata": {},
   "outputs": [],
   "source": []
  }
 ],
 "metadata": {
  "kernelspec": {
   "display_name": "Python 3",
   "language": "python",
   "name": "python3"
  },
  "language_info": {
   "codemirror_mode": {
    "name": "ipython",
    "version": 3
   },
   "file_extension": ".py",
   "mimetype": "text/x-python",
   "name": "python",
   "nbconvert_exporter": "python",
   "pygments_lexer": "ipython3",
   "version": "3.6.2"
  }
 },
 "nbformat": 4,
 "nbformat_minor": 2
}
