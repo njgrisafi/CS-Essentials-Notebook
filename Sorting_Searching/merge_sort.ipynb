{
 "cells": [
  {
   "cell_type": "code",
   "execution_count": 18,
   "metadata": {
    "collapsed": false
   },
   "outputs": [],
   "source": [
    "def merge_sort(arr):\n",
    "    if len(arr) < 2:\n",
    "        return\n",
    "    mid_index = len(arr) // 2\n",
    "    left_arr = arr[:mid_index]\n",
    "    right_arr = arr[mid_index:]\n",
    "    merge_sort(left_arr)\n",
    "    merge_sort(right_arr)\n",
    "    merge(left_arr, right_arr, arr)"
   ]
  },
  {
   "cell_type": "code",
   "execution_count": 19,
   "metadata": {
    "collapsed": true
   },
   "outputs": [],
   "source": [
    "def merge(left_arr, right_arr, arr):\n",
    "    i = 0\n",
    "    j = 0\n",
    "    k = 0\n",
    "    while(i < len(left_arr) and j < len(right_arr)):\n",
    "        if(left_arr[i] < right_arr[j]):\n",
    "            arr[k] = left_arr[i]\n",
    "            i += 1\n",
    "        else:\n",
    "            arr[k] = right_arr[j]\n",
    "            j += 1\n",
    "        k += 1\n",
    "    while(i < len(left_arr)):\n",
    "        arr[k] = left_arr[i]\n",
    "        i += 1\n",
    "        k += 1\n",
    "    while(j < len(right_arr)):\n",
    "        arr[k] = right_arr[j]\n",
    "        j += 1\n",
    "        k += 1"
   ]
  },
  {
   "cell_type": "code",
   "execution_count": 20,
   "metadata": {
    "collapsed": false,
    "scrolled": true
   },
   "outputs": [],
   "source": [
    "x = [3,2,1,5,1,4,5]\n",
    "merge_sort(x)"
   ]
  },
  {
   "cell_type": "code",
   "execution_count": 21,
   "metadata": {
    "collapsed": false
   },
   "outputs": [
    {
     "name": "stdout",
     "output_type": "stream",
     "text": [
      "[1, 1, 2, 3, 4, 5, 5]\n"
     ]
    }
   ],
   "source": [
    "print(x)"
   ]
  },
  {
   "cell_type": "code",
   "execution_count": 22,
   "metadata": {
    "collapsed": true
   },
   "outputs": [],
   "source": [
    "# Big-O is O(nlog(n))\n",
    "# sub problems run in O(log(n)) (sorting the smaller list)\n",
    "# you have to run n sub problems (running through all items in the left and right split arrays)\n",
    "# hence you get O(nlog(n))"
   ]
  },
  {
   "cell_type": "code",
   "execution_count": null,
   "metadata": {
    "collapsed": true
   },
   "outputs": [],
   "source": []
  }
 ],
 "metadata": {
  "kernelspec": {
   "display_name": "Python 3",
   "language": "python",
   "name": "python3"
  },
  "language_info": {
   "codemirror_mode": {
    "name": "ipython",
    "version": 3
   },
   "file_extension": ".py",
   "mimetype": "text/x-python",
   "name": "python",
   "nbconvert_exporter": "python",
   "pygments_lexer": "ipython3",
   "version": "3.6.2"
  }
 },
 "nbformat": 4,
 "nbformat_minor": 2
}
