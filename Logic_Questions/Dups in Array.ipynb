{
 "cells": [
  {
   "cell_type": "code",
   "execution_count": 61,
   "metadata": {
    "collapsed": false
   },
   "outputs": [],
   "source": [
    "def find_dups(arr, size):\n",
    "  print(\"The repeating elements are: \\n\")\n",
    "  for i in range(size):\n",
    "    if (arr[abs(arr[i])] >= 0): # is positive\n",
    "      print(\"changing index: {0}\".format(abs(arr[i])), end=\"\\n\")\n",
    "      arr[abs(arr[i])] = -(arr[abs(arr[i])])\n",
    "      print(arr)\n",
    "    else:\n",
    "      print(arr[i], end=\" \")"
   ]
  },
  {
   "cell_type": "code",
   "execution_count": 67,
   "metadata": {
    "collapsed": true
   },
   "outputs": [],
   "source": [
    "def main():\n",
    "  arr = [1, 2, 1, 1]\n",
    "  arr_size = len(arr)\n",
    "  find_dups(arr, arr_size)"
   ]
  },
  {
   "cell_type": "code",
   "execution_count": 68,
   "metadata": {
    "collapsed": false
   },
   "outputs": [
    {
     "name": "stdout",
     "output_type": "stream",
     "text": [
      "The repeating elements are: \n",
      "\n",
      "changing index: 1\n",
      "[1, -2, 1, 1]\n",
      "changing index: 2\n",
      "[1, -2, -1, 1]\n",
      "-1 1 "
     ]
    }
   ],
   "source": [
    "main()"
   ]
  },
  {
   "cell_type": "code",
   "execution_count": null,
   "metadata": {
    "collapsed": true
   },
   "outputs": [],
   "source": []
  }
 ],
 "metadata": {
  "kernelspec": {
   "display_name": "Python 3",
   "language": "python",
   "name": "python3"
  },
  "language_info": {
   "codemirror_mode": {
    "name": "ipython",
    "version": 3
   },
   "file_extension": ".py",
   "mimetype": "text/x-python",
   "name": "python",
   "nbconvert_exporter": "python",
   "pygments_lexer": "ipython3",
   "version": "3.6.2"
  }
 },
 "nbformat": 4,
 "nbformat_minor": 2
}
